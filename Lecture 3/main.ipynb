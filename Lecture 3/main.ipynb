{
 "cells": [
  {
   "attachments": {},
   "cell_type": "markdown",
   "metadata": {},
   "source": [
    "# 1. Useful Operators"
   ]
  },
  {
   "attachments": {},
   "cell_type": "markdown",
   "metadata": {},
   "source": [
    "## 1.1 range"
   ]
  },
  {
   "cell_type": "code",
   "execution_count": 12,
   "metadata": {},
   "outputs": [
    {
     "data": {
      "text/plain": [
       "[1, 2, 3, 4, 5]"
      ]
     },
     "execution_count": 12,
     "metadata": {},
     "output_type": "execute_result"
    }
   ],
   "source": [
    "myList = list(range(1, 6, 1))\n",
    "myList"
   ]
  },
  {
   "attachments": {},
   "cell_type": "markdown",
   "metadata": {},
   "source": [
    "## 1.2 enumerate"
   ]
  },
  {
   "cell_type": "code",
   "execution_count": 14,
   "metadata": {},
   "outputs": [
    {
     "name": "stdout",
     "output_type": "stream",
     "text": [
      "Index: 0, Value: 1\n",
      "Index: 1, Value: 2\n",
      "Index: 2, Value: 3\n",
      "Index: 3, Value: 4\n",
      "Index: 4, Value: 5\n"
     ]
    }
   ],
   "source": [
    "for index, value in enumerate(myList):\n",
    "    print(f'Index: {index}, Value: {value}')"
   ]
  },
  {
   "cell_type": "code",
   "execution_count": 2,
   "metadata": {},
   "outputs": [
    {
     "name": "stdout",
     "output_type": "stream",
     "text": [
      "Index 0, Key: name, Value: Văn Hiền\n",
      "Index 1, Key: age, Value: 18\n",
      "Index 2, Key: school, Value: hust\n"
     ]
    }
   ],
   "source": [
    "# Gán index cho từng item\n",
    "myDictionary = {\n",
    "    \"name\": 'Văn Hiền',\n",
    "    \"age\" : 18,\n",
    "    \"school\": 'hust'\n",
    "}\n",
    "\n",
    "for index, (key, value) in enumerate(myDictionary.items()):\n",
    "    print(f'Index {index}, Key: {key}, Value: {value}')"
   ]
  },
  {
   "cell_type": "code",
   "execution_count": 5,
   "metadata": {},
   "outputs": [
    {
     "data": {
      "text/plain": [
       "(0, 'name')"
      ]
     },
     "execution_count": 5,
     "metadata": {},
     "output_type": "execute_result"
    }
   ],
   "source": [
    "# chuyển key thành index\n",
    "list(enumerate(myDictionary))[0]"
   ]
  },
  {
   "attachments": {},
   "cell_type": "markdown",
   "metadata": {},
   "source": [
    "## 1.3 zip\n",
    "Dùng để gộp chung các list, set, dictionary, tuple lại với nhau."
   ]
  },
  {
   "cell_type": "code",
   "execution_count": 7,
   "metadata": {},
   "outputs": [
    {
     "name": "stdout",
     "output_type": "stream",
     "text": [
      "1 : 500\n",
      "2 : 1000\n",
      "5 : 2000\n",
      "0.5 : 100\n"
     ]
    }
   ],
   "source": [
    "exprience = [1,    2,   5,   0.5]\n",
    "salaries = [500, 1000, 2000, 100]\n",
    "\n",
    "for e, s in zip(exprience, salaries):\n",
    "    print(f'{e} : {s}')\n"
   ]
  },
  {
   "cell_type": "code",
   "execution_count": null,
   "metadata": {},
   "outputs": [],
   "source": [
    "myTuple1 = ('A', 'B', 'C')\n",
    "myTuple2 = (1, 3, 5)\n",
    "\n",
    "for t1, t2 in zip(myTuple1, myTuple2):\n",
    "    print(f'{t1} : {t2}')"
   ]
  },
  {
   "cell_type": "code",
   "execution_count": 10,
   "metadata": {},
   "outputs": [
    {
     "name": "stdout",
     "output_type": "stream",
     "text": [
      "C : 1\n",
      "B : 3\n",
      "A : 5\n"
     ]
    }
   ],
   "source": [
    "mySet1 = {'A', 'B', 'C'}\n",
    "mySet2 = {1, 3, 5}\n",
    "\n",
    "for s1, s2 in zip(mySet1, mySet2):\n",
    "    print(f'{s1} : {s2}')"
   ]
  },
  {
   "attachments": {},
   "cell_type": "markdown",
   "metadata": {},
   "source": [
    "## 1.4 in and not in"
   ]
  },
  {
   "cell_type": "code",
   "execution_count": 11,
   "metadata": {},
   "outputs": [
    {
     "name": "stdout",
     "output_type": "stream",
     "text": [
      "True\n",
      "False\n"
     ]
    }
   ],
   "source": [
    "print(1 in myList)\n",
    "print(1 not in myList)"
   ]
  },
  {
   "attachments": {},
   "cell_type": "markdown",
   "metadata": {},
   "source": [
    "## 1.5 min and max"
   ]
  },
  {
   "cell_type": "code",
   "execution_count": 12,
   "metadata": {},
   "outputs": [
    {
     "name": "stdout",
     "output_type": "stream",
     "text": [
      "1\n",
      "5\n"
     ]
    }
   ],
   "source": [
    "print(min(myList))\n",
    "print(max(myList))"
   ]
  },
  {
   "attachments": {},
   "cell_type": "markdown",
   "metadata": {},
   "source": [
    "# 2. random"
   ]
  },
  {
   "attachments": {},
   "cell_type": "markdown",
   "metadata": {},
   "source": [
    "## 2.1 random.shuffle\n",
    "+ Dùng để xáo trộn một list"
   ]
  },
  {
   "cell_type": "code",
   "execution_count": 17,
   "metadata": {},
   "outputs": [
    {
     "data": {
      "text/plain": [
       "[2, 1, 4, 5, 3]"
      ]
     },
     "execution_count": 17,
     "metadata": {},
     "output_type": "execute_result"
    }
   ],
   "source": [
    "import random\n",
    "\n",
    "random.shuffle(myList)\n",
    "myList"
   ]
  },
  {
   "attachments": {},
   "cell_type": "markdown",
   "metadata": {},
   "source": [
    "## 2.2 random.random\n",
    "+ trả về các giá trị random từ 0.0 -> 1.0"
   ]
  },
  {
   "cell_type": "code",
   "execution_count": 67,
   "metadata": {},
   "outputs": [
    {
     "data": {
      "text/plain": [
       "0.05319205537269789"
      ]
     },
     "execution_count": 67,
     "metadata": {},
     "output_type": "execute_result"
    }
   ],
   "source": [
    "random.random()"
   ]
  },
  {
   "attachments": {},
   "cell_type": "markdown",
   "metadata": {},
   "source": [
    "## 2.3 random.randrange\n",
    "+ trả về các giá trị từ begin -> end - 1\n",
    "+ randrange(begin, end, step)\n",
    "+ mặc định begin = 0, step = 1 -> nếu ko được truyền vào"
   ]
  },
  {
   "cell_type": "code",
   "execution_count": 66,
   "metadata": {},
   "outputs": [
    {
     "data": {
      "text/plain": [
       "5"
      ]
     },
     "execution_count": 66,
     "metadata": {},
     "output_type": "execute_result"
    }
   ],
   "source": [
    "random.randrange(1, 12, 2)"
   ]
  },
  {
   "attachments": {},
   "cell_type": "markdown",
   "metadata": {},
   "source": [
    "## 2.4 random.choice\n",
    "+ Trả về các phần tử ngẫu nhiên trong list\n",
    "+ các phần tử đã được chọn có thể được chọn lại\n",
    "+ random.choice(myList)\n",
    "+ random.choices(myList, k = number)\n",
    "+ k là số phần tử cần lấy ra, mặc định k = 1 -> nếu không được truyền vào"
   ]
  },
  {
   "cell_type": "code",
   "execution_count": 48,
   "metadata": {},
   "outputs": [
    {
     "name": "stdout",
     "output_type": "stream",
     "text": [
      "2\n"
     ]
    }
   ],
   "source": [
    "random.choice(myList)"
   ]
  },
  {
   "cell_type": "code",
   "execution_count": 27,
   "metadata": {},
   "outputs": [
    {
     "data": {
      "text/plain": [
       "[3, 2, 3]"
      ]
     },
     "execution_count": 27,
     "metadata": {},
     "output_type": "execute_result"
    }
   ],
   "source": [
    "# Random.choices:\n",
    "random.choices(myList, k = 3)"
   ]
  },
  {
   "attachments": {},
   "cell_type": "markdown",
   "metadata": {},
   "source": [
    "## 2.5 random.sample\n",
    "+ Trả về các phần tử ngẫu nhiên trong list\n",
    "+ các phần tử đã được chọn thì ko được chon lại\n",
    "+ random.sample(myList, k = 3)"
   ]
  },
  {
   "cell_type": "code",
   "execution_count": 30,
   "metadata": {},
   "outputs": [
    {
     "data": {
      "text/plain": [
       "[4, 2, 1]"
      ]
     },
     "execution_count": 30,
     "metadata": {},
     "output_type": "execute_result"
    }
   ],
   "source": [
    "random.sample(myList, k = 3)"
   ]
  },
  {
   "attachments": {},
   "cell_type": "markdown",
   "metadata": {},
   "source": [
    "# 3. Funtion"
   ]
  },
  {
   "cell_type": "code",
   "execution_count": 8,
   "metadata": {},
   "outputs": [
    {
     "name": "stdout",
     "output_type": "stream",
     "text": [
      "Hello Văn Hiền\n",
      "3 + 10 = 13\n"
     ]
    }
   ],
   "source": [
    "def greeting(name):\n",
    "    print(f'Hello {name}')\n",
    "\n",
    "def sum(a, b):\n",
    "    return a + b\n",
    "    \n",
    "greeting('Văn Hiền')\n",
    "print(f'3 + 10 = {sum(3, 10)}')"
   ]
  },
  {
   "cell_type": "code",
   "execution_count": 17,
   "metadata": {},
   "outputs": [
    {
     "name": "stdout",
     "output_type": "stream",
     "text": [
      "5\n"
     ]
    }
   ],
   "source": [
    "def max_of_two(n1, n2):\n",
    "    return max(n1, n2)\n",
    "\n",
    "print(max_of_two(5, 1))"
   ]
  },
  {
   "cell_type": "code",
   "execution_count": 16,
   "metadata": {},
   "outputs": [
    {
     "name": "stdout",
     "output_type": "stream",
     "text": [
      "9\n"
     ]
    }
   ],
   "source": [
    "def max_of_three(n1, n2, n3):\n",
    "    return max(n1, n2, n3)\n",
    "\n",
    "print(max_of_three(5, 5, 9))"
   ]
  },
  {
   "cell_type": "code",
   "execution_count": 18,
   "metadata": {},
   "outputs": [
    {
     "data": {
      "text/plain": [
       "'m_a_N_t_ệ_i_V_o_l_l_e_H'"
      ]
     },
     "execution_count": 18,
     "metadata": {},
     "output_type": "execute_result"
    }
   ],
   "source": [
    "def revert_words(word = \"\", Seperator =\"_\"):\n",
    "    text = word.replace(' ', '')\n",
    "    text = list(text)[::-1]\n",
    "    return Seperator.join(text)\n",
    "\n",
    "revert_words(\"Hello Việt Nam\", \"_\")"
   ]
  },
  {
   "attachments": {},
   "cell_type": "markdown",
   "metadata": {},
   "source": [
    "# 4. lambda"
   ]
  },
  {
   "cell_type": "code",
   "execution_count": 2,
   "metadata": {},
   "outputs": [
    {
     "data": {
      "text/plain": [
       "19"
      ]
     },
     "execution_count": 2,
     "metadata": {},
     "output_type": "execute_result"
    }
   ],
   "source": [
    "# Your code here\n",
    "myLambda = lambda x,y: x*10 + y**2 - 10\n",
    "myLambda(2, 3)"
   ]
  },
  {
   "cell_type": "code",
   "execution_count": 3,
   "metadata": {},
   "outputs": [
    {
     "data": {
      "text/plain": [
       "'12'"
      ]
     },
     "execution_count": 3,
     "metadata": {},
     "output_type": "execute_result"
    }
   ],
   "source": [
    "myLambda = lambda s: s.split(\"-\")[1]\n",
    "myLambda('2022-12-19')"
   ]
  },
  {
   "cell_type": "code",
   "execution_count": 1,
   "metadata": {},
   "outputs": [
    {
     "data": {
      "text/plain": [
       "['12', '11', '10']"
      ]
     },
     "execution_count": 1,
     "metadata": {},
     "output_type": "execute_result"
    }
   ],
   "source": [
    "date_list = ['2022-12-19', '2022-11-20', '2022-10-21']\n",
    "\n",
    "myLambda = lambda arr: [s.split(\"-\")[1] for s in arr] \n",
    "myLambda(date_list)"
   ]
  },
  {
   "attachments": {},
   "cell_type": "markdown",
   "metadata": {},
   "source": [
    "# 5 - Errors and Exception handling"
   ]
  },
  {
   "cell_type": "code",
   "execution_count": 5,
   "metadata": {},
   "outputs": [
    {
     "name": "stdout",
     "output_type": "stream",
     "text": [
      "1\n",
      "2\n",
      "three can not cast to int\n",
      "4\n"
     ]
    }
   ],
   "source": [
    "myList = [1, 2, 'three', 4]\n",
    "\n",
    "for n in myList:\n",
    "    try:\n",
    "        print(int(n))\n",
    "    except:\n",
    "        print(f'{n} can not cast to int')"
   ]
  }
 ],
 "metadata": {
  "kernelspec": {
   "display_name": "DATA_SCIENCE",
   "language": "python",
   "name": "python3"
  },
  "language_info": {
   "codemirror_mode": {
    "name": "ipython",
    "version": 3
   },
   "file_extension": ".py",
   "mimetype": "text/x-python",
   "name": "python",
   "nbconvert_exporter": "python",
   "pygments_lexer": "ipython3",
   "version": "3.9.15"
  },
  "orig_nbformat": 4,
  "vscode": {
   "interpreter": {
    "hash": "339e7526c683223b50a7e533443a0ff52c595a5ccaeeb10ef66d040c29a7b3e6"
   }
  }
 },
 "nbformat": 4,
 "nbformat_minor": 2
}
