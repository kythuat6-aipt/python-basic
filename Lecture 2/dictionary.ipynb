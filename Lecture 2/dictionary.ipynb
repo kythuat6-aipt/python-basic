{
 "cells": [
  {
   "cell_type": "code",
   "execution_count": 1,
   "metadata": {},
   "outputs": [],
   "source": [
    "# Dictionary: bao gồm key và value\n",
    "myDictionary = {\n",
    "    'name': 'Văn Hiền',\n",
    "    'age': 18,\n",
    "    'school':'Bkacad',\n",
    "    'language': ['Java', 'Python']\n",
    "}"
   ]
  },
  {
   "cell_type": "code",
   "execution_count": 2,
   "metadata": {},
   "outputs": [
    {
     "data": {
      "text/plain": [
       "'Văn Hiền'"
      ]
     },
     "execution_count": 2,
     "metadata": {},
     "output_type": "execute_result"
    }
   ],
   "source": [
    "# lấy value bởi key\n",
    "myDictionary['name']"
   ]
  },
  {
   "cell_type": "code",
   "execution_count": 3,
   "metadata": {},
   "outputs": [
    {
     "data": {
      "text/plain": [
       "dict_keys(['name', 'age', 'school', 'language'])"
      ]
     },
     "execution_count": 3,
     "metadata": {},
     "output_type": "execute_result"
    }
   ],
   "source": [
    "# trả về tất cả keys\n",
    "myDictionary.keys()"
   ]
  },
  {
   "cell_type": "code",
   "execution_count": 4,
   "metadata": {},
   "outputs": [
    {
     "data": {
      "text/plain": [
       "dict_values(['Văn Hiền', 18, 'Bkacad', ['Java', 'Python']])"
      ]
     },
     "execution_count": 4,
     "metadata": {},
     "output_type": "execute_result"
    }
   ],
   "source": [
    "# trả về tất cả values\n",
    "myDictionary.values()"
   ]
  },
  {
   "cell_type": "code",
   "execution_count": 5,
   "metadata": {},
   "outputs": [
    {
     "data": {
      "text/plain": [
       "dict_items([('name', 'Văn Hiền'), ('age', 18), ('school', 'Bkacad'), ('language', ['Java', 'Python'])])"
      ]
     },
     "execution_count": 5,
     "metadata": {},
     "output_type": "execute_result"
    }
   ],
   "source": [
    "# trả về tất cả các cặp key và values\n",
    "myDictionary.items()"
   ]
  },
  {
   "cell_type": "code",
   "execution_count": 6,
   "metadata": {},
   "outputs": [
    {
     "data": {
      "text/plain": [
       "{'name': 'Văn Hiền',\n",
       " 'age': 18,\n",
       " 'school': 'Bkacad',\n",
       " 'language': ['Java', 'Python', 'JavaScript']}"
      ]
     },
     "execution_count": 6,
     "metadata": {},
     "output_type": "execute_result"
    }
   ],
   "source": [
    "# update key\n",
    "myDictionary['language'].append(\"JavaScript\")\n",
    "myDictionary"
   ]
  },
  {
   "cell_type": "code",
   "execution_count": 7,
   "metadata": {},
   "outputs": [
    {
     "data": {
      "text/plain": [
       "{'name': 'Văn Hiền',\n",
       " 'age': 18,\n",
       " 'school': 'HUST',\n",
       " 'language': ['Java', 'Python', 'JavaScript']}"
      ]
     },
     "execution_count": 7,
     "metadata": {},
     "output_type": "execute_result"
    }
   ],
   "source": [
    "myDictionary['school'] = \"HUST\"\n",
    "myDictionary"
   ]
  },
  {
   "cell_type": "code",
   "execution_count": 8,
   "metadata": {},
   "outputs": [
    {
     "data": {
      "text/plain": [
       "{'name': 'Văn Hiền',\n",
       " 'age': 18,\n",
       " 'school': 'HUST',\n",
       " 'language': ['Java', 'Python', 'JavaScript'],\n",
       " 'working': 'sfin'}"
      ]
     },
     "execution_count": 8,
     "metadata": {},
     "output_type": "execute_result"
    }
   ],
   "source": [
    "# add thêm key và value\n",
    "myDictionary['working'] = \"sfin\"\n",
    "myDictionary"
   ]
  },
  {
   "cell_type": "code",
   "execution_count": 9,
   "metadata": {},
   "outputs": [
    {
     "name": "stdout",
     "output_type": "stream",
     "text": [
      "key: name, Value: Văn Hiền\n",
      "key: age, Value: 18\n",
      "key: school, Value: HUST\n",
      "key: language, Value: ['Java', 'Python', 'JavaScript']\n",
      "key: working, Value: sfin\n"
     ]
    }
   ],
   "source": [
    "for k, v in myDictionary.items():\n",
    "    print(f'key: {k}, Value: {v}')"
   ]
  },
  {
   "cell_type": "code",
   "execution_count": 17,
   "metadata": {},
   "outputs": [
    {
     "data": {
      "text/plain": [
       "{'name': 'Văn Hiền', 'school': 'HUST', 'language': 'PyThon', 'working': 'sfin'}"
      ]
     },
     "execution_count": 17,
     "metadata": {},
     "output_type": "execute_result"
    }
   ],
   "source": [
    "# xóa và trả về giá trị vùa xóa\n",
    "myDictionary.pop('age')\n"
   ]
  }
 ],
 "metadata": {
  "kernelspec": {
   "display_name": "base",
   "language": "python",
   "name": "python3"
  },
  "language_info": {
   "codemirror_mode": {
    "name": "ipython",
    "version": 3
   },
   "file_extension": ".py",
   "mimetype": "text/x-python",
   "name": "python",
   "nbconvert_exporter": "python",
   "pygments_lexer": "ipython3",
   "version": "3.9.13"
  },
  "orig_nbformat": 4,
  "vscode": {
   "interpreter": {
    "hash": "418291e1de3955cfa7a11c463da689aa6aaa0b527a942b06b336a1db2fe0c421"
   }
  }
 },
 "nbformat": 4,
 "nbformat_minor": 2
}
