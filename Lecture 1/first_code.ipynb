{
 "cells": [
  {
   "attachments": {},
   "cell_type": "markdown",
   "metadata": {},
   "source": [
    "## làm quen với cú pháp python"
   ]
  },
  {
   "cell_type": "code",
   "execution_count": 6,
   "metadata": {},
   "outputs": [
    {
     "name": "stdout",
     "output_type": "stream",
     "text": [
      "Số phức z: \n",
      "Phần thực: 4.0, Phần ảo: 3.0\n",
      "Số phức z2: \n",
      "Phần thực: 5.0, Phần ảo: 5.0\n"
     ]
    }
   ],
   "source": [
    "z = complex(4, 3)\n",
    "print(\"Số phức z: \")\n",
    "print(f'Phần thực: {z.real}, Phần ảo: {z.imag}')\n",
    " \n",
    "z1 = complex(1, 2)\n",
    "\n",
    "# cộng 2 số phức\n",
    "z2 = z + z1\n",
    "print(\"Số phức z2: \")\n",
    "print(f'Phần thực: {z2.real}, Phần ảo: {z2.imag}')\n"
   ]
  },
  {
   "cell_type": "code",
   "execution_count": 7,
   "metadata": {},
   "outputs": [
    {
     "name": "stdout",
     "output_type": "stream",
     "text": [
      "Phần thực: 3.0, Phần ảo: 4.0\n"
     ]
    }
   ],
   "source": [
    "a = int(input(\"Nhập phần thực: \"))\n",
    "b = int(input(\"Nhập phần ảo: \"))\n",
    "\n",
    "z = complex(a, b)\n",
    "print(f'Phần thực: {z.real}, Phần ảo: {z.imag}')"
   ]
  },
  {
   "cell_type": "code",
   "execution_count": 9,
   "metadata": {},
   "outputs": [
    {
     "name": "stdout",
     "output_type": "stream",
     "text": [
      "Bạn đã qua môn\n"
     ]
    }
   ],
   "source": [
    "# if, else -> giống các ngôn ngữ khác\n",
    "score = int(input(\"Nhập điểm: \")) \n",
    "\n",
    "if score >= 5:\n",
    "    print(\"Bạn đã qua môn\")\n",
    "else:\n",
    "    print(\"Bạn đã trượt môn\")\n"
   ]
  }
 ],
 "metadata": {
  "kernelspec": {
   "display_name": "DA",
   "language": "python",
   "name": "python3"
  },
  "language_info": {
   "codemirror_mode": {
    "name": "ipython",
    "version": 3
   },
   "file_extension": ".py",
   "mimetype": "text/x-python",
   "name": "python",
   "nbconvert_exporter": "python",
   "pygments_lexer": "ipython3",
   "version": "3.9.15 (main, Nov 24 2022, 14:39:17) [MSC v.1916 64 bit (AMD64)]"
  },
  "orig_nbformat": 4,
  "vscode": {
   "interpreter": {
    "hash": "fb09cd9212fa740160dd5fcb7ff17218c3e800d9a2069df8c9449fe49fb588a6"
   }
  }
 },
 "nbformat": 4,
 "nbformat_minor": 2
}
