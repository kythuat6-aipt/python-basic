{
 "cells": [
  {
   "attachments": {},
   "cell_type": "markdown",
   "metadata": {},
   "source": [
    "## 1. loop"
   ]
  },
  {
   "attachments": {},
   "cell_type": "markdown",
   "metadata": {},
   "source": [
    "# 1.1 for\n",
    "+ range(begin, end, step) => chạy từ begin đến end - 1, \n",
    "+ mặc định step = 1 và begin = 0 nuế không được truyền vào\n",
    "+ sẽ chạy vào else nếu trong for không break"
   ]
  },
  {
   "cell_type": "code",
   "execution_count": 1,
   "metadata": {},
   "outputs": [
    {
     "name": "stdout",
     "output_type": "stream",
     "text": [
      "0 1 2 3 4 for chạy hết\n"
     ]
    }
   ],
   "source": [
    "for i in range(5):\n",
    "    print(i, end=\" \")\n",
    "else: {\n",
    "    print(\"for chạy hết\")\n",
    "}"
   ]
  },
  {
   "attachments": {},
   "cell_type": "markdown",
   "metadata": {},
   "source": [
    "## 1.2 while\n",
    "+ như các ngôn ngữ lập trình khác\n",
    "+ sẽ chạy vào else nếu không break"
   ]
  },
  {
   "cell_type": "code",
   "execution_count": 2,
   "metadata": {},
   "outputs": [
    {
     "name": "stdout",
     "output_type": "stream",
     "text": [
      "0 1 2 3 4 5 while chạy hết\n"
     ]
    }
   ],
   "source": [
    "i = 0\n",
    "while(i <= 5):\n",
    "    print(i, end=\" \")\n",
    "    i+=1\n",
    "else:\n",
    "    print(\"while chạy hết\")"
   ]
  },
  {
   "attachments": {},
   "cell_type": "markdown",
   "metadata": {},
   "source": [
    "## 2. eval and random.randrange\n",
    "+ eval chuyển các chuỗi phep toán thành phép toán\n",
    "+ randrange(begin, end, step): random từ being -> step - 1, mặc định step = 1 và begin = 0 nuế không được truyền vào"
   ]
  },
  {
   "cell_type": "code",
   "execution_count": 3,
   "metadata": {},
   "outputs": [
    {
     "name": "stdout",
     "output_type": "stream",
     "text": [
      "3 * pow(2,3) = 24\n"
     ]
    }
   ],
   "source": [
    "s = \"3 * pow(2,3)\"\n",
    "print(f\"{s} = {eval(s)}\")"
   ]
  },
  {
   "cell_type": "code",
   "execution_count": 35,
   "metadata": {},
   "outputs": [
    {
     "name": "stdout",
     "output_type": "stream",
     "text": [
      "3\n"
     ]
    }
   ],
   "source": [
    "from random import randrange\n",
    "print(randrange(1, 10, 2))"
   ]
  },
  {
   "attachments": {},
   "cell_type": "markdown",
   "metadata": {},
   "source": [
    "## 3. lambda\n",
    "+ là một hàm nặc danh (có thể có nhiều tham số như chỉ có 1 biểu thức)"
   ]
  },
  {
   "cell_type": "code",
   "execution_count": 45,
   "metadata": {},
   "outputs": [
    {
     "name": "stdout",
     "output_type": "stream",
     "text": [
      "11\n"
     ]
    }
   ],
   "source": [
    "def handleSum(sum, a, b):\n",
    "    return sum(a, b)\n",
    "\n",
    "result = handleSum(lambda a,b:a+b, 5, 6)\n",
    "print(result)"
   ]
  },
  {
   "cell_type": "code",
   "execution_count": 44,
   "metadata": {},
   "outputs": [
    {
     "name": "stdout",
     "output_type": "stream",
     "text": [
      "8\n"
     ]
    }
   ],
   "source": [
    "def multiply(a, b):\n",
    "    return a*b\n",
    "\n",
    "def handleMultiply(multiply, a, b):\n",
    "    return multiply(a, b)\n",
    "\n",
    "result2 = handleMultiply(multiply, 2, 4)\n",
    "print(result2)"
   ]
  }
 ],
 "metadata": {
  "kernelspec": {
   "display_name": "base",
   "language": "python",
   "name": "python3"
  },
  "language_info": {
   "codemirror_mode": {
    "name": "ipython",
    "version": 3
   },
   "file_extension": ".py",
   "mimetype": "text/x-python",
   "name": "python",
   "nbconvert_exporter": "python",
   "pygments_lexer": "ipython3",
   "version": "3.9.13"
  },
  "orig_nbformat": 4,
  "vscode": {
   "interpreter": {
    "hash": "418291e1de3955cfa7a11c463da689aa6aaa0b527a942b06b336a1db2fe0c421"
   }
  }
 },
 "nbformat": 4,
 "nbformat_minor": 2
}
