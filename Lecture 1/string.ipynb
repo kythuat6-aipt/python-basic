{
 "cells": [
  {
   "cell_type": "code",
   "execution_count": 1,
   "metadata": {},
   "outputs": [],
   "source": [
    "s =  \"Hello World I'm from Vietnam!\""
   ]
  },
  {
   "cell_type": "code",
   "execution_count": 2,
   "metadata": {},
   "outputs": [
    {
     "name": "stdout",
     "output_type": "stream",
     "text": [
      "29\n",
      "hello world i'm from vietnam!\n",
      "HELLO WORLD I'M FROM VIETNAM!\n",
      "Hello World I'M From Vietnam!\n"
     ]
    }
   ],
   "source": [
    "# độ dài của chuỗi\n",
    "print(len(s))\n",
    "\n",
    "# chuyển thành chữ in thường\n",
    "print(s.lower())\n",
    "\n",
    "# chuyển thành chữ in hoa\n",
    "print(s.upper())\n",
    "\n",
    "# s.title(): viết hoa chữ cái đầu tiên trong mỗi từ\n",
    "print(s.title())"
   ]
  },
  {
   "cell_type": "code",
   "execution_count": 3,
   "metadata": {},
   "outputs": [
    {
     "name": "stdout",
     "output_type": "stream",
     "text": [
      "   Hello World I'm from Vietnam!  \n",
      "Hello World I'm from Vietnam!\n"
     ]
    }
   ],
   "source": [
    "# s2.strip(): bỏ khoảng trắng thừa ở 2 đầu\n",
    "s2 = \"   Hello World I'm from Vietnam!  \"\n",
    "\n",
    "print(s2)\n",
    "print(s2.strip())"
   ]
  },
  {
   "cell_type": "code",
   "execution_count": 4,
   "metadata": {},
   "outputs": [
    {
     "data": {
      "text/plain": [
       "['Hello', 'World', \"I'm\", 'from', 'Vietnam!']"
      ]
     },
     "execution_count": 4,
     "metadata": {},
     "output_type": "execute_result"
    }
   ],
   "source": [
    "# chuyển chuỗi thành mảng\n",
    "s.split(\" \")"
   ]
  },
  {
   "cell_type": "code",
   "execution_count": 5,
   "metadata": {},
   "outputs": [
    {
     "name": "stdout",
     "output_type": "stream",
     "text": [
      "Hello Văn Hiền Wecome To Vietnam!\n"
     ]
    }
   ],
   "source": [
    "# như js: thây thế một từ hoặc một đoạn trong chuỗi bằng cái khác\n",
    "print(s.replace(\"World I'm from\", 'Văn Hiền Wecome To'))"
   ]
  },
  {
   "cell_type": "code",
   "execution_count": 6,
   "metadata": {},
   "outputs": [
    {
     "name": "stdout",
     "output_type": "stream",
     "text": [
      "4\n",
      "18\n"
     ]
    }
   ],
   "source": [
    "# s.find(\"J\") -> trả về trí đầu tiên được tìm thấy\n",
    "print(s.find('o'))\n",
    "\n",
    "# s.rfind(\"J\") -> trả về trí cuối cùng được tìm thấy\n",
    "print(s.rfind('o'))"
   ]
  }
 ],
 "metadata": {
  "kernelspec": {
   "display_name": "base",
   "language": "python",
   "name": "python3"
  },
  "language_info": {
   "codemirror_mode": {
    "name": "ipython",
    "version": 3
   },
   "file_extension": ".py",
   "mimetype": "text/x-python",
   "name": "python",
   "nbconvert_exporter": "python",
   "pygments_lexer": "ipython3",
   "version": "3.9.13"
  },
  "orig_nbformat": 4,
  "vscode": {
   "interpreter": {
    "hash": "418291e1de3955cfa7a11c463da689aa6aaa0b527a942b06b336a1db2fe0c421"
   }
  }
 },
 "nbformat": 4,
 "nbformat_minor": 2
}
